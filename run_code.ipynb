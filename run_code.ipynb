{
  "nbformat": 4,
  "nbformat_minor": 0,
  "metadata": {
    "kernelspec": {
      "name": "python3",
      "display_name": "Python 3"
    },
    "colab": {
      "name": "run_code.ipynb",
      "provenance": [],
      "collapsed_sections": []
    },
    "accelerator": "GPU"
  },
  "cells": [
    {
      "cell_type": "markdown",
      "metadata": {
        "id": "9gq19C6ZvqOX",
        "colab_type": "text"
      },
      "source": [
        "## 1. Install local (and custom) version of transformers"
      ]
    },
    {
      "cell_type": "markdown",
      "metadata": {
        "id": "JF44PycgGvJ0",
        "colab_type": "text"
      },
      "source": [
        "Please specify the location of your FiSSA directory below. We assume that you placed the transformer-master directory inside this folder, and copied our custom files to that location."
      ]
    },
    {
      "cell_type": "code",
      "metadata": {
        "id": "wamxMz2RGs2G",
        "colab_type": "code",
        "colab": {
          "base_uri": "https://localhost:8080/",
          "height": 34
        },
        "outputId": "9b0605ff-7c95-4019-c2ee-310fad449513"
      },
      "source": [
        "path = \"INSERT_PATH_HERE\"\n",
        "% cd $path"
      ],
      "execution_count": null,
      "outputs": []
    },
    {
      "cell_type": "code",
      "metadata": {
        "colab_type": "code",
        "id": "fDN_CcqXakIN",
        "colab": {
          "base_uri": "https://localhost:8080/",
          "height": 1000
        },
        "outputId": "ef80186e-e4c7-4ef8-fc6d-7027801e34c8"
      },
      "source": [
        "% cd $path/transformers-master\n",
        "! python3 setup.py install"
      ],
      "execution_count": null,
      "outputs": []
    },
    {
      "cell_type": "markdown",
      "metadata": {
        "id": "ilBxLegM0hy0",
        "colab_type": "text"
      },
      "source": [
        "## 2. Create TSV"
      ]
    },
    {
      "cell_type": "code",
      "metadata": {
        "id": "8YjrWLmq0hYQ",
        "colab_type": "code",
        "colab": {
          "base_uri": "https://localhost:8080/",
          "height": 68
        },
        "outputId": "195146ea-cf1d-425c-d9ab-7b1a079913e0"
      },
      "source": [
        "% cd $path\n",
        "\n",
        "\n",
        "import pandas as pd\n",
        "\n",
        "\n",
        "def convertTSV(f, placeholder):\n",
        "    t = dict()\n",
        "    for line in f.readlines():\n",
        "        l = line.split()\n",
        "        if placeholder:\n",
        "            if len(l) == 2:\n",
        "                if l[0] == \"meta\" and \"lang\" not in l[1]:\n",
        "                    n = l[1]\n",
        "                    s = \"neutral\"\n",
        "                    t[n] = {\"label\":s, \"text\":[]}\n",
        "                else:\n",
        "                    t[n][\"text\"].append(l[0])\n",
        "\n",
        "        else:\n",
        "            if len(l) == 3:\n",
        "                n = l[1]\n",
        "                s = l[2]\n",
        "                t[n] = {\"label\":s, \"text\":[]}\n",
        "            if len(l) == 2:\n",
        "                t[n][\"text\"].append(l[0])\n",
        "    return t\n",
        "\n",
        "\n",
        "def fileWrite(t, f):\n",
        "    label_dict = {\"negative\":0, \"neutral\":1, \"positive\":2}\n",
        "    for i in range(len(t)):\n",
        "        j = str(i+1)\n",
        "        if i == 0 and f.name.split(\"/\")[-1] == \"dev.tsv\":\n",
        "            f.write(\"{}\\t{}\\n\".format(\" \".join(t[j][\"text\"]), label_dict[t[j][\"label\"]]))\n",
        "        f.write(\"{}\\t{}\\n\".format(\" \".join(t[j][\"text\"]), label_dict[t[j][\"label\"]]))\n",
        "\n",
        "\n",
        "with open(\"dev.conll\", \"r\") as f:\n",
        "    dev = convertTSV(f, False)\n",
        "with open(\"train.conll\", \"r\") as f:\n",
        "    train = convertTSV(f, False)\n",
        "\n",
        "\n",
        "with open(\"train.tsv\", \"w\") as f:\n",
        "    fileWrite(train, f)\n",
        "with open(\"dev.tsv\", \"w\") as f:\n",
        "    fileWrite(dev, f)\n",
        "\n",
        "\n",
        "print(len(dev))\n",
        "print(\"Done!\")"
      ],
      "execution_count": null,
      "outputs": []
    },
    {
      "cell_type": "markdown",
      "metadata": {
        "id": "SunRO2QiPGpT",
        "colab_type": "text"
      },
      "source": [
        "## 3. Fine-tune language model"
      ]
    },
    {
      "cell_type": "code",
      "metadata": {
        "id": "RtlQyJC9OO9U",
        "colab_type": "code",
        "colab": {
          "base_uri": "https://localhost:8080/",
          "height": 1000
        },
        "outputId": "9f6dac0c-68a4-47b8-a18c-1afb775577bb"
      },
      "source": [
        "% cd $path/transformers-master/examples/\n",
        "! python3 run_glue.py --data_dir \"../../\" \\\n",
        "    --model_type xlmroberta \\\n",
        "    --model_name_or_path xlm-roberta-large \\\n",
        "    --task_name sent \\\n",
        "    --output_dir \"../../xlmr_out\" \\\n",
        "    --overwrite_output_dir \\\n",
        "    --do_train \\\n",
        "    --adam_epsilon 1e-08 \\\n",
        "    --learning_rate 1e-05 \\\n",
        "    --num_train_epochs 3.0 \\\n",
        "    --save_steps 100000 \\\n",
        "    --do_eval"
      ],
      "execution_count": null,
      "outputs": []
    },
    {
      "cell_type": "markdown",
      "metadata": {
        "id": "XxkKO53N9rys",
        "colab_type": "text"
      },
      "source": [
        "## 4. Evaluate"
      ]
    },
    {
      "cell_type": "code",
      "metadata": {
        "id": "oPfaaG56w12K",
        "colab_type": "code",
        "colab": {}
      },
      "source": [
        "% cd $path/transformers-master/examples/\n",
        "! python3 run_glue.py \\\n",
        "    --data_dir \"../../\" \\\n",
        "    --model_type xlm-roberta \\\n",
        "    --model_name_or_path \"../../xlmr_out\" \\\n",
        "    --output_dir \"../../xlmr_out\" \\\n",
        "    --overwrite_output_dir \\\n",
        "    --task_name sent \\\n",
        "    --do_eval"
      ],
      "execution_count": null,
      "outputs": []
    }
  ]
}